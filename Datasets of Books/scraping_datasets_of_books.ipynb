{
 "cells": [
  {
   "cell_type": "markdown",
   "id": "f3e165f1",
   "metadata": {},
   "source": [
    "## Scraping datasets of Books"
   ]
  },
  {
   "cell_type": "markdown",
   "id": "30e7e5b2",
   "metadata": {},
   "source": [
    "### What is Web Scraping\n",
    "\n",
    "\n",
    "Web scraping consists in gathering data available on websites. This can be done manually by a human user or by a bot. The latter can of course gather data much faster than a human user and that is why we are going to focus on this. Is it therefore technically possible to collect all the data of a website in a matter of minutes. But the legality of this practice is not well defined.  "
   ]
  },
  {
   "cell_type": "markdown",
   "id": "fdbe6879",
   "metadata": {},
   "source": [
    "#### How does it works\n",
    "\n",
    "Web scrapers gather website data and the scraper goes onto a web page of the website, gets the relevant data, and move forward to the next web page. Every website has a different structure, that is why web scrapers are usually built to explore one website. "
   ]
  },
  {
   "cell_type": "markdown",
   "id": "b8a4723b",
   "metadata": {},
   "source": [
    "#### Tools we're going to use\n",
    "\n",
    "We are going to use the Python modules requests and BeautifulSoup.\n",
    "\n",
    "- Requests will allow us to send HTTP requests to get the HTML files.\n",
    "- BeautifulSoup will be used to parse the HTML files. It is one of the most used library for web scraping. Its is quite simple to use and has many features that help gathering websites data efficiently."
   ]
  },
  {
   "cell_type": "markdown",
   "id": "c08b3be5",
   "metadata": {},
   "source": [
    "#### Prerequisites\n",
    "\n",
    "- python 2.7\n",
    "- requests\n",
    "- beautifulsoup4\n",
    "- pandas"
   ]
  },
  {
   "cell_type": "markdown",
   "id": "f77493ee",
   "metadata": {},
   "source": [
    "So,  we will be gathering the following information about all the products of the website:\n",
    "\n",
    "- book title\n",
    "- price\n",
    "- availability\n",
    "- image\n",
    "- category\n",
    "- rating"
   ]
  },
  {
   "cell_type": "markdown",
   "id": "23320510",
   "metadata": {},
   "source": [
    "### First we will use the requests module to download the HTML of website's main page"
   ]
  },
  {
   "cell_type": "code",
   "execution_count": 1,
   "id": "fffd73b0",
   "metadata": {},
   "outputs": [],
   "source": [
    "main_url = \"http://books.toscrape.com/index.html\""
   ]
  },
  {
   "cell_type": "code",
   "execution_count": 2,
   "id": "f0d86af7",
   "metadata": {},
   "outputs": [],
   "source": [
    "import requests"
   ]
  },
  {
   "cell_type": "code",
   "execution_count": 3,
   "id": "1cd0d497",
   "metadata": {},
   "outputs": [],
   "source": [
    "result = requests.get(main_url)"
   ]
  },
  {
   "cell_type": "code",
   "execution_count": 4,
   "id": "470cdd0c",
   "metadata": {},
   "outputs": [
    {
     "name": "stdout",
     "output_type": "stream",
     "text": [
      "<!DOCTYPE html>\n",
      "<!--[if lt IE 7]>      <html lang=\"en-us\" class=\"no-js lt-ie9 lt-ie8 lt-ie7\"> <![endif]-->\n",
      "<!--[if IE 7]>         <html lang=\"en-us\" class=\"no-js lt-ie9 lt-ie8\"> <![endif]-->\n",
      "<!--[if IE 8]>         <html lang=\"en-us\" class=\"no-js lt-ie9\"> <![endif]-->\n",
      "<!--[if gt IE 8]><!-->\n",
      "<html class=\"no-js\" lang=\"en-us\">\n",
      " <!--<![endif]-->\n",
      " <head>\n",
      "  <title>\n",
      "   All products | Books to Scrape - Sandbox\n",
      "  </title>\n",
      "  <meta content=\"text/html; charset=utf-8\" http-equiv=\"content-type\"/>\n",
      "  <meta content=\"24th Jun 2016 09:29\" name=\"created\"/>\n",
      "  <meta content=\"\" name=\"description\"/>\n",
      "  <meta content=\"width=device-width\" name=\"viewport\"/>\n",
      "  <meta content=\"NOARCHIVE,NOCACHE\" name=\"robots\"/>\n",
      "  <!-- Le HTML5 shim, for IE6-8 support of HTML elements -->\n",
      "  <!--[if lt IE 9]>\n",
      "        <script src=\"//html5shim.googlecode.com/svn/trunk/html5.js\"></script>\n",
      "        <![endif]-->\n",
      "  <link href=\"static/oscar/favicon.ico\" rel=\"shortcut icon\"/>\n",
      "  <link href=\"static/oscar/css/styles.css\" rel=\"stylesheet\" type=\"tex\n"
     ]
    }
   ],
   "source": [
    " # using bs4 to parse and extract information\n",
    "\n",
    "from bs4 import BeautifulSoup\n",
    "doc = BeautifulSoup(result.text, 'html.parser')\n",
    "\n",
    "print(doc.prettify()[:1000])   # prettify() makes the HTML more readable"
   ]
  },
  {
   "cell_type": "code",
   "execution_count": 5,
   "id": "8da5fe4f",
   "metadata": {},
   "outputs": [],
   "source": [
    "# function to request and parse HTML web page \n",
    "\n",
    "def getAndParseURL(url):   \n",
    "    result = requests.get(url)\n",
    "    doc = BeautifulSoup(result.text, 'html.parser')\n",
    "    return(doc)"
   ]
  },
  {
   "cell_type": "markdown",
   "id": "fce761ff",
   "metadata": {},
   "source": [
    "### Find book URLs on the main page"
   ]
  },
  {
   "cell_type": "code",
   "execution_count": 6,
   "id": "db779072",
   "metadata": {},
   "outputs": [
    {
     "data": {
      "text/plain": [
       "<article class=\"product_pod\">\n",
       "<div class=\"image_container\">\n",
       "<a href=\"catalogue/a-light-in-the-attic_1000/index.html\"><img alt=\"A Light in the Attic\" class=\"thumbnail\" src=\"media/cache/2c/da/2cdad67c44b002e7ead0cc35693c0e8b.jpg\"/></a>\n",
       "</div>\n",
       "<p class=\"star-rating Three\">\n",
       "<i class=\"icon-star\"></i>\n",
       "<i class=\"icon-star\"></i>\n",
       "<i class=\"icon-star\"></i>\n",
       "<i class=\"icon-star\"></i>\n",
       "<i class=\"icon-star\"></i>\n",
       "</p>\n",
       "<h3><a href=\"catalogue/a-light-in-the-attic_1000/index.html\" title=\"A Light in the Attic\">A Light in the ...</a></h3>\n",
       "<div class=\"product_price\">\n",
       "<p class=\"price_color\">Â£51.77</p>\n",
       "<p class=\"instock availability\">\n",
       "<i class=\"icon-ok\"></i>\n",
       "    \n",
       "        In stock\n",
       "    \n",
       "</p>\n",
       "<form>\n",
       "<button class=\"btn btn-primary btn-block\" data-loading-text=\"Adding...\" type=\"submit\">Add to basket</button>\n",
       "</form>\n",
       "</div>\n",
       "</article>"
      ]
     },
     "execution_count": 6,
     "metadata": {},
     "output_type": "execute_result"
    }
   ],
   "source": [
    "# to find the book url from the main page we'll use find() function in the reference to the \n",
    "# class value \n",
    "\n",
    "doc.find(\"article\", class_ = \"product_pod\")"
   ]
  },
  {
   "cell_type": "code",
   "execution_count": 7,
   "id": "639221cb",
   "metadata": {},
   "outputs": [
    {
     "data": {
      "text/plain": [
       "<a href=\"catalogue/a-light-in-the-attic_1000/index.html\"><img alt=\"A Light in the Attic\" class=\"thumbnail\" src=\"media/cache/2c/da/2cdad67c44b002e7ead0cc35693c0e8b.jpg\"/></a>"
      ]
     },
     "execution_count": 7,
     "metadata": {},
     "output_type": "execute_result"
    }
   ],
   "source": [
    "doc.find(\"article\", class_ = \"product_pod\").div.a   # using the other child tags for deeper information"
   ]
  },
  {
   "cell_type": "code",
   "execution_count": 8,
   "id": "b14c08a3",
   "metadata": {},
   "outputs": [
    {
     "data": {
      "text/plain": [
       "'catalogue/a-light-in-the-attic_1000/index.html'"
      ]
     },
     "execution_count": 8,
     "metadata": {},
     "output_type": "execute_result"
    }
   ],
   "source": [
    "# to get the URL value in 'href' tag we'll use .get() function\n",
    "\n",
    "doc.find(\"article\", class_ = \"product_pod\").div.a.get('href') "
   ]
  },
  {
   "cell_type": "code",
   "execution_count": 9,
   "id": "d4d170fa",
   "metadata": {},
   "outputs": [
    {
     "name": "stdout",
     "output_type": "stream",
     "text": [
      "20 fetched products URLs\n",
      "One example:\n"
     ]
    },
    {
     "data": {
      "text/plain": [
       "'catalogue/a-light-in-the-attic_1000/index.html'"
      ]
     },
     "execution_count": 9,
     "metadata": {},
     "output_type": "execute_result"
    }
   ],
   "source": [
    "# we'll gather all the products URL value at once by using findAll() function \n",
    "\n",
    "main_page_products_urls = [x.div.a.get('href') for x in doc.findAll(\"article\", class_ = \"product_pod\")]\n",
    "\n",
    "print(str(len(main_page_products_urls)) + \" fetched products URLs\")\n",
    "print(\"One example:\")\n",
    "main_page_products_urls[0]"
   ]
  },
  {
   "cell_type": "code",
   "execution_count": 10,
   "id": "56f01c50",
   "metadata": {},
   "outputs": [],
   "source": [
    "def getBooksURLs(url):\n",
    "    doc = getAndParseURL(url)\n",
    "    \n",
    "    # remove the index.html part of the base url before returning the results\n",
    "    \n",
    "    return([\"/\".join(url.split(\"/\")[:-1]) + \"/\" + x.div.a.get('href') for x in doc.findAll(\"article\", class_ = \"product_pod\")])"
   ]
  },
  {
   "cell_type": "markdown",
   "id": "c56cf8b3",
   "metadata": {},
   "source": [
    "### Find book categories URLs on the main page"
   ]
  },
  {
   "cell_type": "code",
   "execution_count": 11,
   "id": "4727c26d",
   "metadata": {},
   "outputs": [
    {
     "name": "stdout",
     "output_type": "stream",
     "text": [
      "50 fetched categories URLs\n",
      "Some examples:\n"
     ]
    },
    {
     "data": {
      "text/plain": [
       "['http://books.toscrape.com/index.htmlcatalogue/category/books/travel_2/index.html',\n",
       " 'http://books.toscrape.com/index.htmlcatalogue/category/books/mystery_3/index.html',\n",
       " 'http://books.toscrape.com/index.htmlcatalogue/category/books/historical-fiction_4/index.html',\n",
       " 'http://books.toscrape.com/index.htmlcatalogue/category/books/sequential-art_5/index.html',\n",
       " 'http://books.toscrape.com/index.htmlcatalogue/category/books/classics_6/index.html',\n",
       " 'http://books.toscrape.com/index.htmlcatalogue/category/books/philosophy_7/index.html',\n",
       " 'http://books.toscrape.com/index.htmlcatalogue/category/books/romance_8/index.html',\n",
       " 'http://books.toscrape.com/index.htmlcatalogue/category/books/womens-fiction_9/index.html',\n",
       " 'http://books.toscrape.com/index.htmlcatalogue/category/books/fiction_10/index.html',\n",
       " 'http://books.toscrape.com/index.htmlcatalogue/category/books/childrens_11/index.html']"
      ]
     },
     "execution_count": 11,
     "metadata": {},
     "output_type": "execute_result"
    }
   ],
   "source": [
    "import re\n",
    "\n",
    "categories_urls = [main_url + x.get('href') for x in doc.find_all(\"a\", href=re.compile(\"catalogue/category/books\"))]\n",
    "\n",
    "# we remove the first one because it corresponds to all the books\n",
    "\n",
    "categories_urls = categories_urls[1:]\n",
    "\n",
    "print(str(len(categories_urls)) + \" fetched categories URLs\")\n",
    "print(\"Some examples:\")\n",
    "categories_urls[:10]"
   ]
  },
  {
   "cell_type": "markdown",
   "id": "14f9990e",
   "metadata": {},
   "source": [
    "### Scraping all books data"
   ]
  },
  {
   "cell_type": "code",
   "execution_count": 12,
   "id": "408586e6",
   "metadata": {},
   "outputs": [
    {
     "name": "stdout",
     "output_type": "stream",
     "text": [
      "50 fetched URLs\n",
      "Some examples:\n"
     ]
    },
    {
     "data": {
      "text/plain": [
       "['http://books.toscrape.com/index.html',\n",
       " 'http://books.toscrape.com/catalogue/page-2.html',\n",
       " 'http://books.toscrape.com/catalogue/page-3.html',\n",
       " 'http://books.toscrape.com/catalogue/page-4.html',\n",
       " 'http://books.toscrape.com/catalogue/page-5.html']"
      ]
     },
     "execution_count": 12,
     "metadata": {},
     "output_type": "execute_result"
    }
   ],
   "source": [
    "# store all the results into a list\n",
    "pages_urls = [main_url]\n",
    "\n",
    "doc = getAndParseURL(pages_urls[0])\n",
    "\n",
    "# while we get two matches, this means that the webpage contains a 'previous' and a 'next' button\n",
    "# if there is only one button, this means that we are either on the first page or on the last page\n",
    "# we stop when we get to the last page\n",
    "\n",
    "while len(doc.findAll(\"a\", href=re.compile(\"page\"))) == 2 or len(pages_urls) == 1:\n",
    "    \n",
    "    # get the new complete url by adding the fetched URL to the base URL (and removing the .html part of the base URL)\n",
    "    new_url = \"/\".join(pages_urls[-1].split(\"/\")[:-1]) + \"/\" + doc.findAll(\"a\", href=re.compile(\"page\"))[-1].get(\"href\")\n",
    "    \n",
    "    # add the URL to the list\n",
    "    pages_urls.append(new_url)\n",
    "    \n",
    "    # parse the next page\n",
    "    doc = getAndParseURL(new_url)\n",
    "    \n",
    "\n",
    "print(str(len(pages_urls)) + \" fetched URLs\")\n",
    "print(\"Some examples:\")\n",
    "pages_urls[:5]"
   ]
  },
  {
   "cell_type": "code",
   "execution_count": 13,
   "id": "ab30f820",
   "metadata": {},
   "outputs": [
    {
     "name": "stdout",
     "output_type": "stream",
     "text": [
      "status code for page 50: 200\n",
      "status code for page 51: 404\n"
     ]
    }
   ],
   "source": [
    "result = requests.get(\"http://books.toscrape.com/catalogue/page-50.html\")\n",
    "print(\"status code for page 50: \" + str(result.status_code))\n",
    "\n",
    "result = requests.get(\"http://books.toscrape.com/catalogue/page-51.html\")\n",
    "print(\"status code for page 51: \" + str(result.status_code))"
   ]
  },
  {
   "cell_type": "code",
   "execution_count": 14,
   "id": "ae4ed16b",
   "metadata": {},
   "outputs": [
    {
     "name": "stdout",
     "output_type": "stream",
     "text": [
      "50 fetched URLs\n",
      "Some examples:\n"
     ]
    },
    {
     "data": {
      "text/plain": [
       "['http://books.toscrape.com/catalogue/page-1.html',\n",
       " 'http://books.toscrape.com/catalogue/page-2.html',\n",
       " 'http://books.toscrape.com/catalogue/page-3.html',\n",
       " 'http://books.toscrape.com/catalogue/page-4.html',\n",
       " 'http://books.toscrape.com/catalogue/page-5.html']"
      ]
     },
     "execution_count": 14,
     "metadata": {},
     "output_type": "execute_result"
    }
   ],
   "source": [
    "pages_urls = []\n",
    "\n",
    "new_page = \"http://books.toscrape.com/catalogue/page-1.html\"\n",
    "while requests.get(new_page).status_code == 200:\n",
    "    pages_urls.append(new_page)\n",
    "    new_page = pages_urls[-1].split(\"-\")[0] + \"-\" + str(int(pages_urls[-1].split(\"-\")[1].split(\".\")[0]) + 1) + \".html\"\n",
    "    \n",
    "\n",
    "print(str(len(pages_urls)) + \" fetched URLs\")\n",
    "print(\"Some examples:\")\n",
    "pages_urls[:5]"
   ]
  },
  {
   "cell_type": "markdown",
   "id": "b2ecf585",
   "metadata": {},
   "source": [
    "### Get all products URLs"
   ]
  },
  {
   "cell_type": "code",
   "execution_count": 15,
   "id": "7a0dc2b0",
   "metadata": {},
   "outputs": [
    {
     "name": "stdout",
     "output_type": "stream",
     "text": [
      "1000 fetched URLs\n",
      "Some examples:\n"
     ]
    },
    {
     "data": {
      "text/plain": [
       "['http://books.toscrape.com/catalogue/a-light-in-the-attic_1000/index.html',\n",
       " 'http://books.toscrape.com/catalogue/tipping-the-velvet_999/index.html',\n",
       " 'http://books.toscrape.com/catalogue/soumission_998/index.html',\n",
       " 'http://books.toscrape.com/catalogue/sharp-objects_997/index.html',\n",
       " 'http://books.toscrape.com/catalogue/sapiens-a-brief-history-of-humankind_996/index.html']"
      ]
     },
     "execution_count": 15,
     "metadata": {},
     "output_type": "execute_result"
    }
   ],
   "source": [
    "# iterating through the pages\n",
    "\n",
    "booksURLs = []\n",
    "for page in pages_urls:\n",
    "    booksURLs.extend(getBooksURLs(page))\n",
    "    \n",
    "print(str(len(booksURLs)) + \" fetched URLs\")\n",
    "print(\"Some examples:\")\n",
    "booksURLs[:5]"
   ]
  },
  {
   "cell_type": "markdown",
   "id": "e2b9e88d",
   "metadata": {},
   "source": [
    "### Get product data\n",
    "\n",
    "This step helps in scraping the data for each product by putting all things together.\n",
    "With ths step we can easily retrieve the information like:\n",
    "- book title\n",
    "- price\n",
    "- availability\n",
    "- image\n",
    "- category\n",
    "- rating"
   ]
  },
  {
   "cell_type": "code",
   "execution_count": null,
   "id": "0620c305",
   "metadata": {},
   "outputs": [],
   "source": [
    "names = []\n",
    "prices = []\n",
    "nb_in_stock = []\n",
    "img_urls = []\n",
    "categories = []\n",
    "ratings = []\n",
    "\n",
    "# scrape data for every book URL: this may take some time\n",
    "for url in booksURLs:\n",
    "    doc = getAndParseURL(url)\n",
    "    # product name\n",
    "    names.append(doc.find(\"div\", class_ = re.compile(\"product_main\")).h1.text)\n",
    "    # product price\n",
    "    prices.append(doc.find(\"p\", class_ = \"price_color\").text[2:]) # get rid of the pound sign\n",
    "    # number of available products\n",
    "    nb_in_stock.append(re.sub(\"[^0-9]\", \"\", doc.find(\"p\", class_ = \"instock availability\").text)) # get rid of non numerical characters\n",
    "    # image url\n",
    "    img_urls.append(url.replace(\"index.html\", \"\") + doc.find(\"img\").get(\"src\"))\n",
    "    # product category\n",
    "    categories.append(doc.find(\"a\", href = re.compile(\"../category/books/\")).get(\"href\").split(\"/\")[3])\n",
    "    # ratings\n",
    "    ratings.append(doc.find(\"p\", class_ = re.compile(\"star-rating\")).get(\"class\")[1])\n",
    "    "
   ]
  },
  {
   "cell_type": "code",
   "execution_count": 17,
   "id": "6fe52d4c",
   "metadata": {},
   "outputs": [
    {
     "data": {
      "text/html": [
       "<div>\n",
       "<style scoped>\n",
       "    .dataframe tbody tr th:only-of-type {\n",
       "        vertical-align: middle;\n",
       "    }\n",
       "\n",
       "    .dataframe tbody tr th {\n",
       "        vertical-align: top;\n",
       "    }\n",
       "\n",
       "    .dataframe thead th {\n",
       "        text-align: right;\n",
       "    }\n",
       "</style>\n",
       "<table border=\"1\" class=\"dataframe\">\n",
       "  <thead>\n",
       "    <tr style=\"text-align: right;\">\n",
       "      <th></th>\n",
       "      <th>name</th>\n",
       "      <th>price</th>\n",
       "      <th>nb_in_stock</th>\n",
       "      <th>url_img</th>\n",
       "      <th>product_category</th>\n",
       "      <th>rating</th>\n",
       "    </tr>\n",
       "  </thead>\n",
       "  <tbody>\n",
       "    <tr>\n",
       "      <th>0</th>\n",
       "      <td>A Light in the Attic</td>\n",
       "      <td>51.77</td>\n",
       "      <td>22</td>\n",
       "      <td>http://books.toscrape.com/catalogue/a-light-in...</td>\n",
       "      <td>poetry_23</td>\n",
       "      <td>Three</td>\n",
       "    </tr>\n",
       "    <tr>\n",
       "      <th>1</th>\n",
       "      <td>Tipping the Velvet</td>\n",
       "      <td>53.74</td>\n",
       "      <td>20</td>\n",
       "      <td>http://books.toscrape.com/catalogue/tipping-th...</td>\n",
       "      <td>historical-fiction_4</td>\n",
       "      <td>One</td>\n",
       "    </tr>\n",
       "    <tr>\n",
       "      <th>2</th>\n",
       "      <td>Soumission</td>\n",
       "      <td>50.10</td>\n",
       "      <td>20</td>\n",
       "      <td>http://books.toscrape.com/catalogue/soumission...</td>\n",
       "      <td>fiction_10</td>\n",
       "      <td>One</td>\n",
       "    </tr>\n",
       "    <tr>\n",
       "      <th>3</th>\n",
       "      <td>Sharp Objects</td>\n",
       "      <td>47.82</td>\n",
       "      <td>20</td>\n",
       "      <td>http://books.toscrape.com/catalogue/sharp-obje...</td>\n",
       "      <td>mystery_3</td>\n",
       "      <td>Four</td>\n",
       "    </tr>\n",
       "    <tr>\n",
       "      <th>4</th>\n",
       "      <td>Sapiens: A Brief History of Humankind</td>\n",
       "      <td>54.23</td>\n",
       "      <td>20</td>\n",
       "      <td>http://books.toscrape.com/catalogue/sapiens-a-...</td>\n",
       "      <td>history_32</td>\n",
       "      <td>Five</td>\n",
       "    </tr>\n",
       "    <tr>\n",
       "      <th>...</th>\n",
       "      <td>...</td>\n",
       "      <td>...</td>\n",
       "      <td>...</td>\n",
       "      <td>...</td>\n",
       "      <td>...</td>\n",
       "      <td>...</td>\n",
       "    </tr>\n",
       "    <tr>\n",
       "      <th>995</th>\n",
       "      <td>Alice in Wonderland (Alice's Adventures in Won...</td>\n",
       "      <td>55.53</td>\n",
       "      <td>1</td>\n",
       "      <td>http://books.toscrape.com/catalogue/alice-in-w...</td>\n",
       "      <td>classics_6</td>\n",
       "      <td>One</td>\n",
       "    </tr>\n",
       "    <tr>\n",
       "      <th>996</th>\n",
       "      <td>Ajin: Demi-Human, Volume 1 (Ajin: Demi-Human #1)</td>\n",
       "      <td>57.06</td>\n",
       "      <td>1</td>\n",
       "      <td>http://books.toscrape.com/catalogue/ajin-demi-...</td>\n",
       "      <td>sequential-art_5</td>\n",
       "      <td>Four</td>\n",
       "    </tr>\n",
       "    <tr>\n",
       "      <th>997</th>\n",
       "      <td>A Spy's Devotion (The Regency Spies of London #1)</td>\n",
       "      <td>16.97</td>\n",
       "      <td>1</td>\n",
       "      <td>http://books.toscrape.com/catalogue/a-spys-dev...</td>\n",
       "      <td>historical-fiction_4</td>\n",
       "      <td>Five</td>\n",
       "    </tr>\n",
       "    <tr>\n",
       "      <th>998</th>\n",
       "      <td>1st to Die (Women's Murder Club #1)</td>\n",
       "      <td>53.98</td>\n",
       "      <td>1</td>\n",
       "      <td>http://books.toscrape.com/catalogue/1st-to-die...</td>\n",
       "      <td>mystery_3</td>\n",
       "      <td>One</td>\n",
       "    </tr>\n",
       "    <tr>\n",
       "      <th>999</th>\n",
       "      <td>1,000 Places to See Before You Die</td>\n",
       "      <td>26.08</td>\n",
       "      <td>1</td>\n",
       "      <td>http://books.toscrape.com/catalogue/1000-place...</td>\n",
       "      <td>travel_2</td>\n",
       "      <td>Five</td>\n",
       "    </tr>\n",
       "  </tbody>\n",
       "</table>\n",
       "<p>1000 rows × 6 columns</p>\n",
       "</div>"
      ],
      "text/plain": [
       "                                                  name  price nb_in_stock  \\\n",
       "0                                 A Light in the Attic  51.77          22   \n",
       "1                                   Tipping the Velvet  53.74          20   \n",
       "2                                           Soumission  50.10          20   \n",
       "3                                        Sharp Objects  47.82          20   \n",
       "4                Sapiens: A Brief History of Humankind  54.23          20   \n",
       "..                                                 ...    ...         ...   \n",
       "995  Alice in Wonderland (Alice's Adventures in Won...  55.53           1   \n",
       "996   Ajin: Demi-Human, Volume 1 (Ajin: Demi-Human #1)  57.06           1   \n",
       "997  A Spy's Devotion (The Regency Spies of London #1)  16.97           1   \n",
       "998                1st to Die (Women's Murder Club #1)  53.98           1   \n",
       "999                 1,000 Places to See Before You Die  26.08           1   \n",
       "\n",
       "                                               url_img      product_category  \\\n",
       "0    http://books.toscrape.com/catalogue/a-light-in...             poetry_23   \n",
       "1    http://books.toscrape.com/catalogue/tipping-th...  historical-fiction_4   \n",
       "2    http://books.toscrape.com/catalogue/soumission...            fiction_10   \n",
       "3    http://books.toscrape.com/catalogue/sharp-obje...             mystery_3   \n",
       "4    http://books.toscrape.com/catalogue/sapiens-a-...            history_32   \n",
       "..                                                 ...                   ...   \n",
       "995  http://books.toscrape.com/catalogue/alice-in-w...            classics_6   \n",
       "996  http://books.toscrape.com/catalogue/ajin-demi-...      sequential-art_5   \n",
       "997  http://books.toscrape.com/catalogue/a-spys-dev...  historical-fiction_4   \n",
       "998  http://books.toscrape.com/catalogue/1st-to-die...             mystery_3   \n",
       "999  http://books.toscrape.com/catalogue/1000-place...              travel_2   \n",
       "\n",
       "    rating  \n",
       "0    Three  \n",
       "1      One  \n",
       "2      One  \n",
       "3     Four  \n",
       "4     Five  \n",
       "..     ...  \n",
       "995    One  \n",
       "996   Four  \n",
       "997   Five  \n",
       "998    One  \n",
       "999   Five  \n",
       "\n",
       "[1000 rows x 6 columns]"
      ]
     },
     "execution_count": 17,
     "metadata": {},
     "output_type": "execute_result"
    }
   ],
   "source": [
    "# add data into pandas df\n",
    "import pandas as pd\n",
    "\n",
    "scraped_data = pd.DataFrame({'name': names, 'price': prices, 'nb_in_stock': nb_in_stock, \"url_img\": img_urls, \"product_category\": categories, \"rating\": ratings})\n",
    "scraped_data"
   ]
  },
  {
   "cell_type": "markdown",
   "id": "c1b4f304",
   "metadata": {},
   "source": [
    "#### We finally got our data, the web scraping experiment is a success."
   ]
  },
  {
   "cell_type": "code",
   "execution_count": null,
   "id": "21cf19a6",
   "metadata": {},
   "outputs": [],
   "source": []
  }
 ],
 "metadata": {
  "kernelspec": {
   "display_name": "Python 3",
   "language": "python",
   "name": "python3"
  },
  "language_info": {
   "codemirror_mode": {
    "name": "ipython",
    "version": 3
   },
   "file_extension": ".py",
   "mimetype": "text/x-python",
   "name": "python",
   "nbconvert_exporter": "python",
   "pygments_lexer": "ipython3",
   "version": "3.9.5"
  }
 },
 "nbformat": 4,
 "nbformat_minor": 5
}
