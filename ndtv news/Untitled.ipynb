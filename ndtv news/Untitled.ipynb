{
 "cells": [
  {
   "cell_type": "markdown",
   "id": "ecf72ab2",
   "metadata": {},
   "source": [
    "## Web Scraping \n",
    "\n",
    "Using web scraping we could collect data from other website. We could extract the useful information through data."
   ]
  },
  {
   "cell_type": "markdown",
   "id": "c637798b",
   "metadata": {},
   "source": [
    "### Importing Libraries"
   ]
  },
  {
   "cell_type": "code",
   "execution_count": 2,
   "id": "73cd80b9",
   "metadata": {},
   "outputs": [],
   "source": [
    "import numpy as np\n",
    "import pandas as pd\n",
    "import requests\n",
    "import pprint\n",
    "from bs4 import BeautifulSoup"
   ]
  },
  {
   "cell_type": "code",
   "execution_count": 12,
   "id": "a0c789c5",
   "metadata": {},
   "outputs": [],
   "source": [
    "ndtv_url = requests.get('https://www.ndtv.com/world-news?pfrom=home-ndtv_mainnavgation')"
   ]
  },
  {
   "cell_type": "code",
   "execution_count": 13,
   "id": "a5e3352d",
   "metadata": {},
   "outputs": [],
   "source": [
    "doc = BeautifulSoup(ndtv_url.content, 'html.parser')"
   ]
  },
  {
   "cell_type": "markdown",
   "id": "5d269876",
   "metadata": {},
   "source": [
    "### Using tag id to extract data "
   ]
  },
  {
   "cell_type": "code",
   "execution_count": 14,
   "id": "a25486a8",
   "metadata": {},
   "outputs": [
    {
     "name": "stdout",
     "output_type": "stream",
     "text": [
      "<div class=\"sc-q-lnk\" id=\"trending\"></div>\n"
     ]
    }
   ],
   "source": [
    "results = doc.find(id='trending')\n",
    "print(results)"
   ]
  },
  {
   "cell_type": "code",
   "execution_count": 15,
   "id": "e8841274",
   "metadata": {},
   "outputs": [
    {
     "name": "stdout",
     "output_type": "stream",
     "text": [
      "<div class=\"sc-q-lnk\" id=\"trending\">\n",
      "</div>\n"
     ]
    }
   ],
   "source": [
    "print(results.prettify())"
   ]
  },
  {
   "cell_type": "code",
   "execution_count": 16,
   "id": "46f7222f",
   "metadata": {},
   "outputs": [],
   "source": [
    "#main_content = doc.find(id='Main')\n",
    "\n",
    "headline = doc.find_all('p', class_ ='newsCont')"
   ]
  },
  {
   "cell_type": "code",
   "execution_count": 17,
   "id": "fbea8db3",
   "metadata": {},
   "outputs": [
    {
     "name": "stdout",
     "output_type": "stream",
     "text": [
      "[<p class=\"newsCont\">Astronauts at China's new space station conducted their first spacewalk Sunday, state media reported, as Beijing presses on with its extraterrestrial ambitions.</p>, <p class=\"newsCont\">As travel picks up this summer, airlines are dusting off planes that were grounded during the pandemic, checking they are clear of fungus, bugs and bird nests before sending them back in the air.</p>, <p class=\"newsCont\">As he prepares to blast off into a new career stage, Jeff Bezos leaves an enduring legacy after transforming Amazon from a modest online bookseller into one of the world's most powerful corporations.</p>, <p class=\"newsCont\">The Canadian military was on standby Saturday to help evacuate towns and fight more than 170 wildfires fuelled by a record-smashing heat wave and tinder-dry conditions as the government in Ottawa warned of a \"long and challenging summer\" ahead.</p>, <p class=\"newsCont\">Brazil's Supreme Court Justice Rosa Weber late on Friday authorized an investigation of President Jair Bolsonaro by the top prosecutor's office for dereliction of duty in the process of procuring an Indian COVID-19 vaccine.</p>, <p class=\"newsCont\">Vermont -- known for Bernie Sanders, maple syrup and the birthplace of Ben and Jerry's ice cream -- has a new claim to fame: America's most-vaccinated state against Covid-19.</p>, <p class=\"newsCont\">Israeli defence officials were checking whether Iranian forces were behind a possible attack on a cargo ship under partial Israeli ownership on Saturday on its way from Jeddah to the United Arab Emirates, Israel's N12 Television News reported</p>, <p class=\"newsCont\">The European Union on Saturday deployed aerial assistance to help Cyprus contain a huge forest fire raging north of the cities of Limassol and Larnaca, a blaze one official called the worst on record.</p>, <p class=\"newsCont\">One of the largest ransomware attacks in history spread worldwide on Saturday, forcing the Swedish Coop grocery store chain to close all 800 of its stores because it could not operate its cash registers.</p>, <p class=\"newsCont\">Thousands of Brazilians took to the streets Saturday to protest against President Jair Bolsonaro, who faces an investigation over an allegedly corrupt Covid vaccine deal.</p>, <p class=\"newsCont\">Six people including two American missionaries were killed when a private airplane crashed southwest of Haiti's capital Port-au-Prince, local authorities said Saturday.</p>, <p class=\"newsCont\">Rescuers recovered two more bodies to bring the death toll in the Florida apartment block collapse to 24, authorities said Saturday, vowing to quickly raze the rest of the structure before the potential arrival of Tropical Storm Elsa.</p>, <p class=\"newsCont\">Facebook Inc said it has resolved a technical issue that caused some users trouble accessing Facebook, Messenger, Workplace and Instagram on Saturday.</p>, <p class=\"newsCont\">A Palestinian man was killed by Israeli gunfire in the West Bank Saturday, Palestinian authorities said, an incident Israel's army described as a \"violent confrontation\" between Palestinians and Jewish settlers.</p>, <p class=\"newsCont\">At least 43 migrants drowned in a shipwreck off Tunisia as they tried to cross the Mediterranean from Libya to Italy.</p>]\n"
     ]
    }
   ],
   "source": [
    "print(headline)"
   ]
  },
  {
   "cell_type": "code",
   "execution_count": 18,
   "id": "e1b9e999",
   "metadata": {},
   "outputs": [
    {
     "data": {
      "text/plain": [
       "bs4.element.ResultSet"
      ]
     },
     "execution_count": 18,
     "metadata": {},
     "output_type": "execute_result"
    }
   ],
   "source": [
    "type(headline)"
   ]
  },
  {
   "cell_type": "code",
   "execution_count": 19,
   "id": "8a4b2082",
   "metadata": {},
   "outputs": [
    {
     "name": "stdout",
     "output_type": "stream",
     "text": [
      "<p class=\"newsCont\">Astronauts at China's new space station conducted their first spacewalk Sunday, state media reported, as Beijing presses on with its extraterrestrial ambitions.</p>\n",
      "\n",
      "<p class=\"newsCont\">As travel picks up this summer, airlines are dusting off planes that were grounded during the pandemic, checking they are clear of fungus, bugs and bird nests before sending them back in the air.</p>\n",
      "\n",
      "<p class=\"newsCont\">As he prepares to blast off into a new career stage, Jeff Bezos leaves an enduring legacy after transforming Amazon from a modest online bookseller into one of the world's most powerful corporations.</p>\n",
      "\n",
      "<p class=\"newsCont\">The Canadian military was on standby Saturday to help evacuate towns and fight more than 170 wildfires fuelled by a record-smashing heat wave and tinder-dry conditions as the government in Ottawa warned of a \"long and challenging summer\" ahead.</p>\n",
      "\n",
      "<p class=\"newsCont\">Brazil's Supreme Court Justice Rosa Weber late on Friday authorized an investigation of President Jair Bolsonaro by the top prosecutor's office for dereliction of duty in the process of procuring an Indian COVID-19 vaccine.</p>\n",
      "\n",
      "<p class=\"newsCont\">Vermont -- known for Bernie Sanders, maple syrup and the birthplace of Ben and Jerry's ice cream -- has a new claim to fame: America's most-vaccinated state against Covid-19.</p>\n",
      "\n",
      "<p class=\"newsCont\">Israeli defence officials were checking whether Iranian forces were behind a possible attack on a cargo ship under partial Israeli ownership on Saturday on its way from Jeddah to the United Arab Emirates, Israel's N12 Television News reported</p>\n",
      "\n",
      "<p class=\"newsCont\">The European Union on Saturday deployed aerial assistance to help Cyprus contain a huge forest fire raging north of the cities of Limassol and Larnaca, a blaze one official called the worst on record.</p>\n",
      "\n",
      "<p class=\"newsCont\">One of the largest ransomware attacks in history spread worldwide on Saturday, forcing the Swedish Coop grocery store chain to close all 800 of its stores because it could not operate its cash registers.</p>\n",
      "\n",
      "<p class=\"newsCont\">Thousands of Brazilians took to the streets Saturday to protest against President Jair Bolsonaro, who faces an investigation over an allegedly corrupt Covid vaccine deal.</p>\n",
      "\n",
      "<p class=\"newsCont\">Six people including two American missionaries were killed when a private airplane crashed southwest of Haiti's capital Port-au-Prince, local authorities said Saturday.</p>\n",
      "\n",
      "<p class=\"newsCont\">Rescuers recovered two more bodies to bring the death toll in the Florida apartment block collapse to 24, authorities said Saturday, vowing to quickly raze the rest of the structure before the potential arrival of Tropical Storm Elsa.</p>\n",
      "\n",
      "<p class=\"newsCont\">Facebook Inc said it has resolved a technical issue that caused some users trouble accessing Facebook, Messenger, Workplace and Instagram on Saturday.</p>\n",
      "\n",
      "<p class=\"newsCont\">A Palestinian man was killed by Israeli gunfire in the West Bank Saturday, Palestinian authorities said, an incident Israel's army described as a \"violent confrontation\" between Palestinians and Jewish settlers.</p>\n",
      "\n",
      "<p class=\"newsCont\">At least 43 migrants drowned in a shipwreck off Tunisia as they tried to cross the Mediterranean from Libya to Italy.</p>\n",
      "\n"
     ]
    }
   ],
   "source": [
    "for element in headline:\n",
    "    print(element, end=\"\\n\"*2)"
   ]
  },
  {
   "cell_type": "code",
   "execution_count": 20,
   "id": "a7ffbbe0",
   "metadata": {},
   "outputs": [
    {
     "name": "stdout",
     "output_type": "stream",
     "text": [
      "Astronauts at China's new space station conducted their first spacewalk Sunday, state media reported, as Beijing presses on with its extraterrestrial ambitions.\n",
      "\n",
      "As travel picks up this summer, airlines are dusting off planes that were grounded during the pandemic, checking they are clear of fungus, bugs and bird nests before sending them back in the air.\n",
      "\n",
      "As he prepares to blast off into a new career stage, Jeff Bezos leaves an enduring legacy after transforming Amazon from a modest online bookseller into one of the world's most powerful corporations.\n",
      "\n",
      "The Canadian military was on standby Saturday to help evacuate towns and fight more than 170 wildfires fuelled by a record-smashing heat wave and tinder-dry conditions as the government in Ottawa warned of a \"long and challenging summer\" ahead.\n",
      "\n",
      "Brazil's Supreme Court Justice Rosa Weber late on Friday authorized an investigation of President Jair Bolsonaro by the top prosecutor's office for dereliction of duty in the process of procuring an Indian COVID-19 vaccine.\n",
      "\n",
      "Vermont -- known for Bernie Sanders, maple syrup and the birthplace of Ben and Jerry's ice cream -- has a new claim to fame: America's most-vaccinated state against Covid-19.\n",
      "\n",
      "Israeli defence officials were checking whether Iranian forces were behind a possible attack on a cargo ship under partial Israeli ownership on Saturday on its way from Jeddah to the United Arab Emirates, Israel's N12 Television News reported\n",
      "\n",
      "The European Union on Saturday deployed aerial assistance to help Cyprus contain a huge forest fire raging north of the cities of Limassol and Larnaca, a blaze one official called the worst on record.\n",
      "\n",
      "One of the largest ransomware attacks in history spread worldwide on Saturday, forcing the Swedish Coop grocery store chain to close all 800 of its stores because it could not operate its cash registers.\n",
      "\n",
      "Thousands of Brazilians took to the streets Saturday to protest against President Jair Bolsonaro, who faces an investigation over an allegedly corrupt Covid vaccine deal.\n",
      "\n",
      "Six people including two American missionaries were killed when a private airplane crashed southwest of Haiti's capital Port-au-Prince, local authorities said Saturday.\n",
      "\n",
      "Rescuers recovered two more bodies to bring the death toll in the Florida apartment block collapse to 24, authorities said Saturday, vowing to quickly raze the rest of the structure before the potential arrival of Tropical Storm Elsa.\n",
      "\n",
      "Facebook Inc said it has resolved a technical issue that caused some users trouble accessing Facebook, Messenger, Workplace and Instagram on Saturday.\n",
      "\n",
      "A Palestinian man was killed by Israeli gunfire in the West Bank Saturday, Palestinian authorities said, an incident Israel's army described as a \"violent confrontation\" between Palestinians and Jewish settlers.\n",
      "\n",
      "At least 43 migrants drowned in a shipwreck off Tunisia as they tried to cross the Mediterranean from Libya to Italy.\n",
      "\n"
     ]
    }
   ],
   "source": [
    "for element in headline:\n",
    "    print(element.text, end=\"\\n\\n\")"
   ]
  },
  {
   "cell_type": "code",
   "execution_count": null,
   "id": "78ad3346",
   "metadata": {},
   "outputs": [],
   "source": []
  }
 ],
 "metadata": {
  "kernelspec": {
   "display_name": "Python 3",
   "language": "python",
   "name": "python3"
  },
  "language_info": {
   "codemirror_mode": {
    "name": "ipython",
    "version": 3
   },
   "file_extension": ".py",
   "mimetype": "text/x-python",
   "name": "python",
   "nbconvert_exporter": "python",
   "pygments_lexer": "ipython3",
   "version": "3.9.5"
  }
 },
 "nbformat": 4,
 "nbformat_minor": 5
}
