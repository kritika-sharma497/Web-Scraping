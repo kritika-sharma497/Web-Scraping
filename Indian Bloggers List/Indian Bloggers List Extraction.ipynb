{
 "cells": [
  {
   "cell_type": "code",
   "execution_count": null,
   "id": "2735e660",
   "metadata": {},
   "outputs": [],
   "source": []
  },
  {
   "cell_type": "code",
   "execution_count": null,
   "id": "5c20b30f",
   "metadata": {},
   "outputs": [],
   "source": []
  },
  {
   "cell_type": "code",
   "execution_count": null,
   "id": "146aed98",
   "metadata": {},
   "outputs": [],
   "source": []
  },
  {
   "cell_type": "code",
   "execution_count": null,
   "id": "5ee7085f",
   "metadata": {},
   "outputs": [],
   "source": []
  },
  {
   "cell_type": "code",
   "execution_count": null,
   "id": "03887f74",
   "metadata": {},
   "outputs": [],
   "source": []
  },
  {
   "cell_type": "markdown",
   "id": "9acfcd73",
   "metadata": {},
   "source": [
    "### Importing Libraries"
   ]
  },
  {
   "cell_type": "code",
   "execution_count": 21,
   "id": "c487e286",
   "metadata": {},
   "outputs": [],
   "source": [
    "!pip install matplotlib --quiet\n",
    "!pip install beautifulsoup4 --quiet"
   ]
  },
  {
   "cell_type": "code",
   "execution_count": 22,
   "id": "a4e49959",
   "metadata": {},
   "outputs": [],
   "source": [
    "import requests\n",
    "import pandas as pd\n",
    "import re\n",
    "import matplotlib.pyplot as plt\n",
    "from bs4 import BeautifulSoup, Comment"
   ]
  },
  {
   "cell_type": "code",
   "execution_count": 23,
   "id": "b303ecd4",
   "metadata": {},
   "outputs": [],
   "source": [
    "main_url='https://indianbloggers.org/'"
   ]
  },
  {
   "cell_type": "code",
   "execution_count": 31,
   "id": "c5830bb6",
   "metadata": {},
   "outputs": [],
   "source": [
    "result = requests.get(main_url).text"
   ]
  },
  {
   "cell_type": "code",
   "execution_count": 49,
   "id": "aa0b57fa",
   "metadata": {},
   "outputs": [],
   "source": [
    "#initalizing an empty dictionary that would be written as Pandas Dataframe and then CSV\n",
    "\n",
    "d = {\n",
    "    'title':[],\n",
    "    'links':[]\n",
    "}"
   ]
  },
  {
   "cell_type": "code",
   "execution_count": 33,
   "id": "2f79419d",
   "metadata": {},
   "outputs": [],
   "source": [
    "#initializing blog hosting category\n",
    "\n",
    "cat = {\n",
    "    'blogspot':0,\n",
    "    'wordpress':0,\n",
    "    'others':0\n",
    "}"
   ]
  },
  {
   "cell_type": "code",
   "execution_count": 45,
   "id": "010c9e26",
   "metadata": {},
   "outputs": [
    {
     "name": "stdout",
     "output_type": "stream",
     "text": [
      "<!DOCTYPE html>\n",
      "<html lang=\"en\">\n",
      " <head>\n",
      "  <meta charset=\"utf-8\"/>\n",
      "  <meta content=\"IE=edge\" http-equiv=\"X-UA-Compatible\"/>\n",
      "  <meta content=\"width=device-width, initial-scale=1\" name=\"viewport\"/>\n",
      "  <meta content=\"top indian bloggers, popular indian blogs, india, blogging\" name=\"keywords\">\n",
      "   <meta content=\"Directory of most popular blogs in India. You can meet some of the best Indian Bloggers here and even add your own blog to the bloggers directory.\" name=\"description\">\n",
      "    <title>\n",
      "     Best Indian Blogs - Directory of Most Popular Blogs in India\n",
      "    </title>\n",
      "    <meta content=\"The Best Indian Bloggers\" property=\"og:title\">\n",
      "     <meta content=\"website\" property=\"og:type\"/>\n",
      "     <meta content=\"https://indianbloggers.org/\" property=\"og:url\"/>\n",
      "     <meta content=\"http://img.labnol.org/files/di.png\" property=\"og:image\"/>\n",
      "     <meta content=\"The Best Indian Bloggers\" property=\"og:site_name\"/>\n",
      "     <meta content=\"500808182\" property=\"fb:admins\"/>\n",
      "     <meta content=\"India Blogs is a frequen\n"
     ]
    }
   ],
   "source": [
    "soup = BeautifulSoup(result, 'html.parser')\n",
    "\n",
    "print(soup.prettify()[:1000])   # prettify() makes the HTML more readable"
   ]
  },
  {
   "cell_type": "code",
   "execution_count": 35,
   "id": "2e1f372a",
   "metadata": {},
   "outputs": [],
   "source": [
    "for link in soup.find_all('a',):\n",
    "    if len(link.text.strip()) > 1 and bool(re.match('^http',link['href'])) and not bool(re.search('indianbloggers|twitter|facebook',link['href'])):\n",
    "        d['title'].append(link.text)\n",
    "        d['links'].append(link['href'])\n",
    "        \n",
    "        #finding the blog hosting type\n",
    "        if re.search('blogspot',link['href']):\n",
    "            cat['blogspot']+=1\n",
    "        elif re.search('wordpress',link['href']):\n",
    "            cat['wordpress']+=1\n",
    "        else:\n",
    "            cat['others']+=1\n",
    "            \n",
    "        #d['len'].append(len(link.text.strip()))\n",
    "    \n",
    "blog_list = pd.DataFrame(d).set_index('title')\n"
   ]
  },
  {
   "cell_type": "code",
   "execution_count": 36,
   "id": "3a7d6fc9",
   "metadata": {},
   "outputs": [
    {
     "name": "stdout",
     "output_type": "stream",
     "text": [
      "                                            links\n",
      "title                                            \n",
      "Amit Agarwal               http://www.labnol.org/\n",
      "Jyotsna Kamat  http://www.kamat.com/jyotsna/blog/\n",
      "Amit Varma             http://www.indiauncut.com/\n",
      "Sidin Vadukut              http://www.whatay.com/\n",
      "Hawkeye           http://hawkeyeview.blogspot.in/\n"
     ]
    }
   ],
   "source": [
    "print(blog_list.head())"
   ]
  },
  {
   "cell_type": "code",
   "execution_count": 37,
   "id": "94ed82fc",
   "metadata": {},
   "outputs": [],
   "source": [
    "blog_list.to_csv('blog_list.csv', encoding='utf-8')"
   ]
  },
  {
   "cell_type": "code",
   "execution_count": 38,
   "id": "f51979bc",
   "metadata": {},
   "outputs": [
    {
     "name": "stdout",
     "output_type": "stream",
     "text": [
      "363 rows written\n"
     ]
    }
   ],
   "source": [
    "print(str(len(blog_list.index))+' rows written')"
   ]
  },
  {
   "cell_type": "code",
   "execution_count": 39,
   "id": "7344cd47",
   "metadata": {},
   "outputs": [
    {
     "name": "stdout",
     "output_type": "stream",
     "text": [
      "{'blogspot': 106, 'wordpress': 49, 'others': 208}\n"
     ]
    }
   ],
   "source": [
    "print(cat)"
   ]
  },
  {
   "cell_type": "code",
   "execution_count": 41,
   "id": "5bdc7559",
   "metadata": {},
   "outputs": [
    {
     "data": {
      "image/png": "[encoded data removed]",
      "text/plain": [
       "<Figure size 432x288 with 1 Axes>"
      ]
     },
     "metadata": {
      "needs_background": "light"
     },
     "output_type": "display_data"
    }
   ],
   "source": [
    "#plotting the blog hosting type \n",
    "\n",
    "plt.bar(range(len(cat)), cat.values(), align='center')\n",
    "plt.xticks(range(len(cat)), cat.keys())\n",
    "\n",
    "plt.show()"
   ]
  },
  {
   "cell_type": "code",
   "execution_count": null,
   "id": "4a160e15",
   "metadata": {},
   "outputs": [],
   "source": []
  }
 ],
 "metadata": {
  "kernelspec": {
   "display_name": "Python 3",
   "language": "python",
   "name": "python3"
  },
  "language_info": {
   "codemirror_mode": {
    "name": "ipython",
    "version": 3
   },
   "file_extension": ".py",
   "mimetype": "text/x-python",
   "name": "python",
   "nbconvert_exporter": "python",
   "pygments_lexer": "ipython3",
   "version": "3.9.5"
  }
 },
 "nbformat": 4,
 "nbformat_minor": 5
}
